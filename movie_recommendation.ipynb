{
  "nbformat": 4,
  "nbformat_minor": 0,
  "metadata": {
    "colab": {
      "name": "movie_recommendation.ipynb",
      "provenance": [],
      "collapsed_sections": []
    },
    "kernelspec": {
      "name": "python3",
      "display_name": "Python 3"
    },
    "language_info": {
      "name": "python"
    },
    "accelerator": "GPU"
  },
  "cells": [
    {
      "cell_type": "code",
      "metadata": {
        "id": "kF-CnSjT16yJ"
      },
      "source": [
        "import pandas as pd\n",
        "all_movies = pd.read_csv('./drive/MyDrive/movie.csv')\n",
        "all_ratings = pd.read_csv('./drive/MyDrive/rating.csv')"
      ],
      "execution_count": 3,
      "outputs": []
    },
    {
      "cell_type": "code",
      "metadata": {
        "colab": {
          "base_uri": "https://localhost:8080/"
        },
        "id": "7yA39mhiaeOd",
        "outputId": "2a18eea3-f640-4aab-d492-97c6482113d3"
      },
      "source": [
        "from google.colab import drive\n",
        "drive.mount('/content/drive')"
      ],
      "execution_count": 2,
      "outputs": [
        {
          "output_type": "stream",
          "text": [
            "Mounted at /content/drive\n"
          ],
          "name": "stdout"
        }
      ]
    },
    {
      "cell_type": "code",
      "metadata": {
        "id": "EEO30fI_KWBy"
      },
      "source": [
        "user_movie_rating = all_ratings[0:10000].pivot(\n",
        "    index = 'userId',\n",
        "    columns = 'movieId',\n",
        "    values = 'rating'\n",
        ").fillna(0)"
      ],
      "execution_count": 4,
      "outputs": []
    },
    {
      "cell_type": "code",
      "metadata": {
        "colab": {
          "base_uri": "https://localhost:8080/",
          "height": 357
        },
        "id": "0PrtvP2dFqM6",
        "outputId": "cd9bbb45-f444-4ba1-e683-8f697c6c298d"
      },
      "source": [
        "import numpy as np\n",
        "matrix = np.copy(user_movie_rating.to_numpy())\n",
        "\n",
        "def getKeyValue(user,other,indices):\n",
        "  return sum([np.abs(user[i] - other[i]) for i in indices])\n",
        "\n",
        "\n",
        "def getRecommend(matrix,user_id):\n",
        "  index = user_id - 1\n",
        "  user_ratings = matrix[index]\n",
        "  # print(user_rating[np.where(user_rating != 0)])\n",
        "  indices = np.argsort(user_ratings)[::-1][:10] #상위 10개 평점 인덱스 정렬\n",
        "  # print(user_rating[indices])\n",
        "  all_users = np.arange(len(matrix)).tolist()\n",
        "  all_users.sort(key = lambda x : getKeyValue(user_ratings,matrix[x],indices)) # 나의 상위 10개 평점과 비슷한 유저순으로 정렬\n",
        "  # print(all_users)\n",
        "\n",
        "  sum_ratings = np.array([0.0]*(len(user_ratings))) # 안본영화중 나랑 비슷한 유저들이 매긴 평점중 높은 순서로\n",
        "\n",
        "  for other in all_users[1:11]:\n",
        "    other_rating = matrix[other]\n",
        "    for index in indices:\n",
        "      other_rating[index] = 0  # user가 본 영화에 해당하는 평점을 0으로 만들어 주고 있다.\n",
        "    sum_ratings += other_rating\n",
        "\n",
        "  return np.argsort(sum_ratings)[::-1][:10] # 추천 영화 10개 리턴\n",
        "  \n",
        "\n",
        "recommended_movies = getRecommend(matrix,20) # user20 에 대한 추천 영화\n",
        "all_movies.loc[recommended_movies,:]\n"
      ],
      "execution_count": 31,
      "outputs": [
        {
          "output_type": "execute_result",
          "data": {
            "text/html": [
              "<div>\n",
              "<style scoped>\n",
              "    .dataframe tbody tr th:only-of-type {\n",
              "        vertical-align: middle;\n",
              "    }\n",
              "\n",
              "    .dataframe tbody tr th {\n",
              "        vertical-align: top;\n",
              "    }\n",
              "\n",
              "    .dataframe thead th {\n",
              "        text-align: right;\n",
              "    }\n",
              "</style>\n",
              "<table border=\"1\" class=\"dataframe\">\n",
              "  <thead>\n",
              "    <tr style=\"text-align: right;\">\n",
              "      <th></th>\n",
              "      <th>movieId</th>\n",
              "      <th>title</th>\n",
              "      <th>genres</th>\n",
              "    </tr>\n",
              "  </thead>\n",
              "  <tbody>\n",
              "    <tr>\n",
              "      <th>200</th>\n",
              "      <td>202</td>\n",
              "      <td>Total Eclipse (1995)</td>\n",
              "      <td>Drama|Romance</td>\n",
              "    </tr>\n",
              "    <tr>\n",
              "      <th>564</th>\n",
              "      <td>569</td>\n",
              "      <td>Little Big League (1994)</td>\n",
              "      <td>Comedy|Drama</td>\n",
              "    </tr>\n",
              "    <tr>\n",
              "      <th>365</th>\n",
              "      <td>369</td>\n",
              "      <td>Mrs. Parker and the Vicious Circle (1994)</td>\n",
              "      <td>Drama</td>\n",
              "    </tr>\n",
              "    <tr>\n",
              "      <th>27</th>\n",
              "      <td>28</td>\n",
              "      <td>Persuasion (1995)</td>\n",
              "      <td>Drama|Romance</td>\n",
              "    </tr>\n",
              "    <tr>\n",
              "      <th>643</th>\n",
              "      <td>651</td>\n",
              "      <td>Superweib, Das (1996)</td>\n",
              "      <td>Comedy</td>\n",
              "    </tr>\n",
              "    <tr>\n",
              "      <th>607</th>\n",
              "      <td>613</td>\n",
              "      <td>Jane Eyre (1996)</td>\n",
              "      <td>Drama|Romance</td>\n",
              "    </tr>\n",
              "    <tr>\n",
              "      <th>186</th>\n",
              "      <td>188</td>\n",
              "      <td>Prophecy, The (1995)</td>\n",
              "      <td>Fantasy|Horror|Mystery</td>\n",
              "    </tr>\n",
              "    <tr>\n",
              "      <th>39</th>\n",
              "      <td>40</td>\n",
              "      <td>Cry, the Beloved Country (1995)</td>\n",
              "      <td>Drama</td>\n",
              "    </tr>\n",
              "    <tr>\n",
              "      <th>362</th>\n",
              "      <td>366</td>\n",
              "      <td>Wes Craven's New Nightmare (Nightmare on Elm S...</td>\n",
              "      <td>Drama|Horror|Mystery|Thriller</td>\n",
              "    </tr>\n",
              "    <tr>\n",
              "      <th>584</th>\n",
              "      <td>590</td>\n",
              "      <td>Dances with Wolves (1990)</td>\n",
              "      <td>Adventure|Drama|Western</td>\n",
              "    </tr>\n",
              "  </tbody>\n",
              "</table>\n",
              "</div>"
            ],
            "text/plain": [
              "     movieId  ...                         genres\n",
              "200      202  ...                  Drama|Romance\n",
              "564      569  ...                   Comedy|Drama\n",
              "365      369  ...                          Drama\n",
              "27        28  ...                  Drama|Romance\n",
              "643      651  ...                         Comedy\n",
              "607      613  ...                  Drama|Romance\n",
              "186      188  ...         Fantasy|Horror|Mystery\n",
              "39        40  ...                          Drama\n",
              "362      366  ...  Drama|Horror|Mystery|Thriller\n",
              "584      590  ...        Adventure|Drama|Western\n",
              "\n",
              "[10 rows x 3 columns]"
            ]
          },
          "metadata": {
            "tags": []
          },
          "execution_count": 31
        }
      ]
    },
    {
      "cell_type": "markdown",
      "metadata": {
        "id": "LDI4sccz22UG"
      },
      "source": [
        "# 새 섹션"
      ]
    }
  ]
}